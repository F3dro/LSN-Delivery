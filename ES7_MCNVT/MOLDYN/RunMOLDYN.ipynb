{
 "cells": [
  {
   "cell_type": "code",
   "execution_count": 1,
   "metadata": {},
   "outputs": [],
   "source": [
    "import matplotlib\n",
    "import matplotlib.pyplot as plt\n",
    "import numpy as np\n",
    "import matplotlib.gridspec as gridspec\n",
    "from scipy.optimize import curve_fit\n",
    "import os"
   ]
  },
  {
   "cell_type": "markdown",
   "metadata": {},
   "source": [
    "Equilibrazione + eseguzione solido"
   ]
  },
  {
   "cell_type": "code",
   "execution_count": null,
   "metadata": {},
   "outputs": [],
   "source": []
  },
  {
   "cell_type": "code",
   "execution_count": 5,
   "metadata": {},
   "outputs": [],
   "source": [
    "for mat in range(1, 3):\n",
    "    os.system(\"cp config.fcc config.0\")\n",
    "    os.system(\"./clean.sh\")\n",
    "    input_text=\"0 \\n0.8 \\n108 \\n1.1 \\n2.2 \\n0.0005 \\n500 \\n1000 \\n5 \\n\"+str(mat)+\" \\n\\n  ReadInput >> restart; \\n  ReadInput >> temp; \\n  ReadInput >> npart; \\n  ReadInput >> rho; \\n  ReadInput >> rcut; \\n  ReadInput >> delta; \\n  ReadInput >> nstep; \\n  ReadInput >> iprint; \\n  ReadInput >> NoBlk; \\n  ReadInput >> material;\"\n",
    "    file = open(\"input.dat\", \"w\")\n",
    "    file.write(input_text)\n",
    "    file.close()\n",
    "    os.system(\"./MolDyn_NVE_2.exe\");\n",
    "    input_text=\"1 \\n0.8 \\n108 \\n1.1 \\n2.2 \\n0.0005 \\n500 \\n1000 \\n5 \\n\"+str(mat)+\" \\n\\n  ReadInput >> restart; \\n  ReadInput >> temp; \\n  ReadInput >> npart; \\n  ReadInput >> rho; \\n  ReadInput >> rcut; \\n  ReadInput >> delta; \\n  ReadInput >> nstep; \\n  ReadInput >> iprint; \\n  ReadInput >> NoBlk; \\n  ReadInput >> material;\"\n",
    "    for i in range(2):\n",
    "        file = open(\"input.dat\", \"w\")\n",
    "        file.write(input_text)\n",
    "        file.close()\n",
    "        os.system(\"./MolDyn_NVE_2.exe\");\n",
    "    os.system(\"rm output.g*\")\n",
    "    input_text=\"1 \\n0.8 \\n108 \\n1.1 \\n2.2 \\n0.0005 \\n1000 \\n1000 \\n20 \\n\"+str(mat)+\" \\n\\n  ReadInput >> restart; \\n  ReadInput >> temp; \\n  ReadInput >> npart; \\n  ReadInput >> rho; \\n  ReadInput >> rcut; \\n  ReadInput >> delta; \\n  ReadInput >> nstep; \\n  ReadInput >> iprint; \\n  ReadInput >> NoBlk; \\n  ReadInput >> material;\"\n",
    "    file = open(\"input.dat\", \"w\")\n",
    "    file.write(input_text)\n",
    "    file.close()\n",
    "    os.system(\"./MolDyn_NVE_2.exe\");\n",
    "    os.system(\"mv output* solid/\");"
   ]
  },
  {
   "cell_type": "markdown",
   "metadata": {},
   "source": [
    "Equilibrazione liquido"
   ]
  },
  {
   "cell_type": "code",
   "execution_count": null,
   "metadata": {},
   "outputs": [],
   "source": []
  },
  {
   "cell_type": "code",
   "execution_count": 6,
   "metadata": {},
   "outputs": [],
   "source": [
    "for mat in range(1, 3):\n",
    "    os.system(\"cp config.fcc config.0\")\n",
    "    os.system(\"./clean.sh\")\n",
    "    input_text=\"0 \\n1.1 \\n108 \\n0.8 \\n2.5 \\n0.0005 \\n500 \\n1000 \\n5 \\n\"+str(mat)+\" \\n\\n  ReadInput >> restart; \\n  ReadInput >> temp; \\n  ReadInput >> npart; \\n  ReadInput >> rho; \\n  ReadInput >> rcut; \\n  ReadInput >> delta; \\n  ReadInput >> nstep; \\n  ReadInput >> iprint; \\n  ReadInput >> NoBlk; \\n  ReadInput >> material;\"\n",
    "    file = open(\"input.dat\", \"w\")\n",
    "    file.write(input_text)\n",
    "    file.close()\n",
    "    os.system(\"./MolDyn_NVE_2.exe\");\n",
    "    input_text=\"1 \\n1.1 \\n108 \\n0.8 \\n2.5 \\n0.0005 \\n500 \\n1000 \\n5 \\n\"+str(mat)+\" \\n\\n  ReadInput >> restart; \\n  ReadInput >> temp; \\n  ReadInput >> npart; \\n  ReadInput >> rho; \\n  ReadInput >> rcut; \\n  ReadInput >> delta; \\n  ReadInput >> nstep; \\n  ReadInput >> iprint; \\n  ReadInput >> NoBlk; \\n  ReadInput >> material;\"\n",
    "    for i in range(2):\n",
    "        file = open(\"input.dat\", \"w\")\n",
    "        file.write(input_text)\n",
    "        file.close()\n",
    "        os.system(\"./MolDyn_NVE_2.exe\");\n",
    "    os.system(\"rm output.g*\")\n",
    "    input_text=\"1 \\n1.1 \\n108 \\n0.8 \\n2.5 \\n0.0005 \\n1000 \\n1000 \\n20 \\n\"+str(mat)+\" \\n\\n  ReadInput >> restart; \\n  ReadInput >> temp; \\n  ReadInput >> npart; \\n  ReadInput >> rho; \\n  ReadInput >> rcut; \\n  ReadInput >> delta; \\n  ReadInput >> nstep; \\n  ReadInput >> iprint; \\n  ReadInput >> NoBlk; \\n  ReadInput >> material;\"\n",
    "    file = open(\"input.dat\", \"w\")\n",
    "    file.write(input_text)\n",
    "    file.close()\n",
    "    os.system(\"./MolDyn_NVE_2.exe\");\n",
    "    os.system(\"mv output* liquid/\");"
   ]
  },
  {
   "cell_type": "markdown",
   "metadata": {},
   "source": [
    "Equilibrazione gas"
   ]
  },
  {
   "cell_type": "code",
   "execution_count": null,
   "metadata": {},
   "outputs": [],
   "source": []
  },
  {
   "cell_type": "code",
   "execution_count": 7,
   "metadata": {},
   "outputs": [],
   "source": [
    "for mat in range(1, 3):\n",
    "    os.system(\"cp config.fcc config.0\")\n",
    "    os.system(\"./clean.sh\")\n",
    "    input_text=\"0 \\n1.2 \\n108 \\n0.05 \\n5.0 \\n0.0005 \\n500 \\n1000 \\n5 \\n\"+str(mat)+\" \\n\\n  ReadInput >> restart; \\n  ReadInput >> temp; \\n  ReadInput >> npart; \\n  ReadInput >> rho; \\n  ReadInput >> rcut; \\n  ReadInput >> delta; \\n  ReadInput >> nstep; \\n  ReadInput >> iprint; \\n  ReadInput >> NoBlk; \\n  ReadInput >> material;\"\n",
    "    file = open(\"input.dat\", \"w\")\n",
    "    file.write(input_text)\n",
    "    file.close()\n",
    "    os.system(\"./MolDyn_NVE_2.exe\");\n",
    "    input_text=\"1 \\n1.2 \\n108 \\n0.05 \\n5.0 \\n0.0005 \\n500 \\n1000 \\n5 \\n\"+str(mat)+\" \\n\\n  ReadInput >> restart; \\n  ReadInput >> temp; \\n  ReadInput >> npart; \\n  ReadInput >> rho; \\n  ReadInput >> rcut; \\n  ReadInput >> delta; \\n  ReadInput >> nstep; \\n  ReadInput >> iprint; \\n  ReadInput >> NoBlk; \\n  ReadInput >> material;\"\n",
    "    for i in range(2):\n",
    "        file = open(\"input.dat\", \"w\")\n",
    "        file.write(input_text)\n",
    "        file.close()\n",
    "        os.system(\"./MolDyn_NVE_2.exe\");\n",
    "    os.system(\"rm output.g*\")\n",
    "    input_text=\"1 \\n1.2 \\n108 \\n0.05 \\n5.0 \\n0.0005 \\n1000 \\n1000 \\n20 \\n\"+str(mat)+\" \\n\\n  ReadInput >> restart; \\n  ReadInput >> temp; \\n  ReadInput >> npart; \\n  ReadInput >> rho; \\n  ReadInput >> rcut; \\n  ReadInput >> delta; \\n  ReadInput >> nstep; \\n  ReadInput >> iprint; \\n  ReadInput >> NoBlk; \\n  ReadInput >> material;\"\n",
    "    file = open(\"input.dat\", \"w\")\n",
    "    file.write(input_text)\n",
    "    file.close()\n",
    "    os.system(\"./MolDyn_NVE_2.exe\");\n",
    "    os.system(\"mv output* gas/\");"
   ]
  }
 ],
 "metadata": {
  "kernelspec": {
   "display_name": "Python 3",
   "language": "python",
   "name": "python3"
  },
  "language_info": {
   "codemirror_mode": {
    "name": "ipython",
    "version": 3
   },
   "file_extension": ".py",
   "mimetype": "text/x-python",
   "name": "python",
   "nbconvert_exporter": "python",
   "pygments_lexer": "ipython3",
   "version": "3.6.8"
  }
 },
 "nbformat": 4,
 "nbformat_minor": 2
}
