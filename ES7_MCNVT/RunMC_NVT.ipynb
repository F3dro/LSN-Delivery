{
 "cells": [
  {
   "cell_type": "code",
   "execution_count": 1,
   "metadata": {},
   "outputs": [],
   "source": [
    "import matplotlib\n",
    "import matplotlib.pyplot as plt\n",
    "import numpy as np\n",
    "import matplotlib.gridspec as gridspec\n",
    "from scipy.optimize import curve_fit\n",
    "import os"
   ]
  },
  {
   "cell_type": "markdown",
   "metadata": {},
   "source": [
    "Equilibrazione + eseguzione solido"
   ]
  },
  {
   "cell_type": "code",
   "execution_count": null,
   "metadata": {},
   "outputs": [],
   "source": []
  },
  {
   "cell_type": "code",
   "execution_count": 11,
   "metadata": {},
   "outputs": [],
   "source": [
    "for mat in range(1, 3):\n",
    "    os.system(\"cp config.fcc config.0\")\n",
    "    input_text=\"0.8 \\n108 \\n1.1 \\n2.2 \\n0.12 \\n1000 \\n1 \\n\"+str(mat)+\" \\n\\n  ReadInput >> temp; \\n  ReadInput >> npart; \\n  ReadInput >> rho; \\n  ReadInput >> rcut; \\n  ReadInput >> delta; \\n  ReadInput >> nblk; \\n  ReadInput >> nstep; \\n ReadInput >> material;\"\n",
    "    file = open(\"input.dat\", \"w\")\n",
    "    file.write(input_text)\n",
    "    file.close()\n",
    "    os.system(\"./Monte_Carlo_NVT.exe\");\n",
    "    os.system(\"mv config.final config.0\");\n",
    "    os.system(\"./clean.sh\")\n",
    "    input_text=\"0.8 \\n108 \\n1.1 \\n2.2 \\n0.12 \\n20 \\n1000 \\n\"+str(mat)+\" \\n\\n  ReadInput >> temp; \\n  ReadInput >> npart; \\n  ReadInput >> rho; \\n  ReadInput >> rcut; \\n  ReadInput >> delta; \\n  ReadInput >> nblk; \\n  ReadInput >> nstep; \\n ReadInput >> material;\"\n",
    "    file = open(\"input.dat\", \"w\")\n",
    "    file.write(input_text)\n",
    "    file.close()\n",
    "    os.system(\"./Monte_Carlo_NVT.exe\");\n",
    "    os.system(\"mv output* simu_solid/\");"
   ]
  },
  {
   "cell_type": "markdown",
   "metadata": {},
   "source": [
    "Equilibrazione liquido"
   ]
  },
  {
   "cell_type": "code",
   "execution_count": null,
   "metadata": {},
   "outputs": [],
   "source": []
  },
  {
   "cell_type": "code",
   "execution_count": 8,
   "metadata": {},
   "outputs": [],
   "source": [
    "for mat in range(1, 3):\n",
    "    os.system(\"cp config.fcc config.0\")\n",
    "    os.system(\"./clean.sh\")\n",
    "    input_text=\"1.1 \\n108 \\n0.8 \\n2.5 \\n0.2 \\n1000 \\n1 \\n\"+str(mat)+\" \\n\\n  ReadInput >> temp; \\n  ReadInput >> npart; \\n  ReadInput >> rho; \\n  ReadInput >> rcut; \\n  ReadInput >> delta; \\n  ReadInput >> nblk; \\n  ReadInput >> nstep; \\n ReadInput >> material;\"\n",
    "    file = open(\"input.dat\", \"w\")\n",
    "    file.write(input_text)\n",
    "    file.close()\n",
    "    os.system(\"./Monte_Carlo_NVT.exe\");\n",
    "    os.system(\"mv config.final config.0\");\n",
    "    os.system(\"./clean.sh\")\n",
    "    input_text=\"1.1 \\n108 \\n0.8 \\n2.5 \\n0.2 \\n20 \\n1000 \\n\"+str(mat)+\" \\n\\n  ReadInput >> temp; \\n  ReadInput >> npart; \\n  ReadInput >> rho; \\n  ReadInput >> rcut; \\n  ReadInput >> delta; \\n  ReadInput >> nblk; \\n  ReadInput >> nstep; \\n ReadInput >> material;\"\n",
    "    file = open(\"input.dat\", \"w\")\n",
    "    file.write(input_text)\n",
    "    file.close()\n",
    "    os.system(\"./Monte_Carlo_NVT.exe\");\n",
    "    os.system(\"mv output* simu_liquid/\");"
   ]
  },
  {
   "cell_type": "markdown",
   "metadata": {},
   "source": [
    "Equilibrazione gas"
   ]
  },
  {
   "cell_type": "code",
   "execution_count": null,
   "metadata": {},
   "outputs": [],
   "source": []
  },
  {
   "cell_type": "code",
   "execution_count": 4,
   "metadata": {},
   "outputs": [],
   "source": [
    "for mat in range(1, 3):\n",
    "    os.system(\"cp config.fcc config.0\")\n",
    "    os.system(\"./clean.sh\")\n",
    "    input_text=\"1.2 \\n108 \\n0.05 \\n5.0 \\n5 \\n1000 \\n1 \\n\"+str(mat)+\" \\n\\n  ReadInput >> temp; \\n  ReadInput >> npart; \\n  ReadInput >> rho; \\n  ReadInput >> rcut; \\n  ReadInput >> delta; \\n  ReadInput >> nblk; \\n  ReadInput >> nstep; \\n ReadInput >> material;\"\n",
    "    file = open(\"input.dat\", \"w\")\n",
    "    file.write(input_text)\n",
    "    file.close()\n",
    "    os.system(\"./Monte_Carlo_NVT.exe\");\n",
    "    os.system(\"mv config.final config.0\");\n",
    "    os.system(\"./clean.sh\")\n",
    "    input_text=\"1.2 \\n108 \\n0.05 \\n5.0 \\n5 \\n20 \\n1000 \\n\"+str(mat)+\" \\n\\n  ReadInput >> temp; \\n  ReadInput >> npart; \\n  ReadInput >> rho; \\n  ReadInput >> rcut; \\n  ReadInput >> delta; \\n  ReadInput >> nblk; \\n  ReadInput >> nstep; \\n ReadInput >> material;\"\n",
    "    file = open(\"input.dat\", \"w\")\n",
    "    file.write(input_text)\n",
    "    file.close()\n",
    "    os.system(\"./Monte_Carlo_NVT.exe\");\n",
    "    os.system(\"mv output* simu_gas/\");"
   ]
  }
 ],
 "metadata": {
  "kernelspec": {
   "display_name": "Python 3",
   "language": "python",
   "name": "python3"
  },
  "language_info": {
   "codemirror_mode": {
    "name": "ipython",
    "version": 3
   },
   "file_extension": ".py",
   "mimetype": "text/x-python",
   "name": "python",
   "nbconvert_exporter": "python",
   "pygments_lexer": "ipython3",
   "version": "3.6.8"
  }
 },
 "nbformat": 4,
 "nbformat_minor": 2
}
