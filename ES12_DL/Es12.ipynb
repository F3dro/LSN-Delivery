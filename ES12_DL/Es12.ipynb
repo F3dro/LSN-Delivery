{
 "cells": [
  {
   "cell_type": "markdown",
   "metadata": {},
   "source": [
    "# <span style=\"color:black\"> Esercitazioni - lezione 12 </span>\n",
    "\n",
    "## <span style=\"color:black\"> Esercizio 12.1 </span>"
   ]
  },
  {
   "cell_type": "markdown",
   "metadata": {},
   "source": [
    "Questo esercizio consiste nel valutare l'incidenza della scelta dell'ottimizzatore nell'efficienza di una Deep Neural Network mantenendo tutti fli altri parametri fissati (come nelle celle sottostanti). La rete neurale è stata costruita e allenata per riconoscere una cifra (da 0 a 9) disegnata in un'immagine di 28x28 pixel utilizzando un database di 70000 cifre scritte  mano. Ogni pixel può assumere 256 gradazioni in scala di grigi che rappresentano i colori dal bianco al nero. \n",
    "Oltre allo Stochastic Gradient Descent (SGD) sono stati utilizzati Adagrad e Adadelta:\n",
    "- Adagrad è un ottimizzatore i cui rate di apprendimento sono specificati da parametri, che vengono adattati relativamente a quanto frequentemente un determinato parametro viene aggiornato durante l'allenamento. Più aggiornamenti un parametro riceve, minore diventerà il suo tasso di apprendimento. I valori sono stati mantenuti - come suggerito dalla libreria - uguali a quelli di default.  \n",
    "- Adadelta è invece un'estensione dell'Adagrad la quale adatta i tassi di apprendimento senza accumulare tutti i passati gradienti, ma basandosi su un intervallo mobile di aggiornamenti del gradiente. In questo modo Adadelta continua ad imparare anche quando vengono effettuati molti aggiornamenti. Anche per questo ottimizzatore sono stati mantenuti i parametri di default.\n",
    "\n",
    "Le celle seguenti servono per creare la rete neurale con i parametri suggeriti."
   ]
  },
  {
   "cell_type": "code",
   "execution_count": 35,
   "metadata": {},
   "outputs": [],
   "source": [
    "import tensorflow as tf\n",
    "from tensorflow import keras\n",
    "import os\n",
    "import numpy as np\n",
    "import matplotlib.pyplot as plt\n",
    "\n",
    "from keras.datasets import mnist\n",
    "from keras.models import Sequential\n",
    "from keras.layers import Dense, Dropout\n",
    "from keras.optimizers import SGD, Adam, RMSprop, Adagrad, Adadelta, Adam, Adamax, Nadam\n",
    "\n",
    "seed=0\n",
    "np.random.seed(seed) # fix random seed\n",
    "tf.set_random_seed(seed)"
   ]
  },
  {
   "cell_type": "code",
   "execution_count": 36,
   "metadata": {},
   "outputs": [
    {
     "name": "stdout",
     "output_type": "stream",
     "text": [
      "X_train shape: (60000, 28, 28)\n",
      "Y_train shape: (60000,)\n",
      "\n",
      "60000 train samples\n",
      "10000 test samples\n"
     ]
    }
   ],
   "source": [
    "\n",
    "\n",
    "# input image dimensions\n",
    "img_rows, img_cols = 28, 28 # number of pixels \n",
    "# output\n",
    "num_classes = 10 # 10 digits\n",
    "\n",
    "# the data, split between train and test sets\n",
    "(X_train, Y_train), (X_test, Y_test) = mnist.load_data()\n",
    "\n",
    "print('X_train shape:', X_train.shape)\n",
    "print('Y_train shape:', Y_train.shape)\n",
    "print()\n",
    "print(X_train.shape[0], 'train samples')\n",
    "print(X_test.shape[0], 'test samples')"
   ]
  },
  {
   "cell_type": "code",
   "execution_count": 37,
   "metadata": {},
   "outputs": [
    {
     "name": "stdout",
     "output_type": "stream",
     "text": [
      "an example of a data point with label 4\n"
     ]
    },
    {
     "data": {
      "image/png": "[encoded data removed]",
      "text/plain": [
       "<Figure size 288x288 with 1 Axes>"
      ]
     },
     "metadata": {},
     "output_type": "display_data"
    },
    {
     "name": "stdout",
     "output_type": "stream",
     "text": [
      "an example of a data point with label 4 before to_categorical ...\n",
      "... and with label [0. 0. 0. 0. 1. 0. 0. 0. 0. 0.] after to_categorical\n",
      "\n",
      "X_train shape: (60000, 784)\n",
      "Y_train shape: (60000, 10)\n"
     ]
    }
   ],
   "source": [
    "# reshape data, it could depend on Keras backend\n",
    "X_train = X_train.reshape(X_train.shape[0], img_rows*img_cols)\n",
    "X_test = X_test.reshape(X_test.shape[0], img_rows*img_cols)\n",
    "\n",
    "# cast floats to single precesion\n",
    "X_train = X_train.astype('float32')\n",
    "X_test = X_test.astype('float32')\n",
    "\n",
    "# rescale data in interval [0,1]\n",
    "X_train /= 255\n",
    "X_test /= 255\n",
    "\n",
    "# look at an example of data point\n",
    "print('an example of a data point with label', Y_train[20])\n",
    "# matshow: display a matrix in a new figure window\n",
    "plt.matshow(X_train[20,:].reshape(28,28),cmap='binary')\n",
    "plt.show()\n",
    "\n",
    "print('an example of a data point with label', Y_train[20], 'before to_categorical ...')\n",
    "# convert class vectors to binary class matrices, e.g. for use with categorical_crossentropy\n",
    "Y_train = keras.utils.to_categorical(Y_train, num_classes)\n",
    "Y_test = keras.utils.to_categorical(Y_test, num_classes)\n",
    "print('... and with label', Y_train[20], 'after to_categorical')\n",
    "print()\n",
    "print('X_train shape:', X_train.shape)\n",
    "print('Y_train shape:', Y_train.shape)"
   ]
  },
  {
   "cell_type": "code",
   "execution_count": 38,
   "metadata": {},
   "outputs": [
    {
     "name": "stdout",
     "output_type": "stream",
     "text": [
      "Model architecture created successfully!\n"
     ]
    }
   ],
   "source": [
    "def create_DNN():\n",
    "    # instantiate model\n",
    "    model = Sequential()\n",
    "    # add a dense all-to-all relu layer\n",
    "    model.add(Dense(400,input_shape=(img_rows*img_cols,), activation='relu'))\n",
    "    # add a dense all-to-all relu layer\n",
    "    model.add(Dense(100, activation='relu'))\n",
    "    # apply dropout with rate 0.5\n",
    "    model.add(Dropout(0.5))\n",
    "    # soft-max layer\n",
    "    model.add(Dense(num_classes, activation='softmax'))\n",
    "    \n",
    "    return model\n",
    "\n",
    "print('Model architecture created successfully!')"
   ]
  },
  {
   "cell_type": "code",
   "execution_count": 39,
   "metadata": {},
   "outputs": [
    {
     "name": "stdout",
     "output_type": "stream",
     "text": [
      "Model compiled successfully and ready to be trained.\n"
     ]
    }
   ],
   "source": [
    "def compile_model():\n",
    "    # create the model\n",
    "    model=create_DNN()\n",
    "    # compile the model\n",
    "    model.compile(loss=keras.losses.categorical_crossentropy,\n",
    "                  optimizer=Adagrad(),\n",
    "                  metrics=['accuracy'])\n",
    "    return model\n",
    "\n",
    "print('Model compiled successfully and ready to be trained.')"
   ]
  },
  {
   "cell_type": "code",
   "execution_count": 55,
   "metadata": {},
   "outputs": [
    {
     "name": "stdout",
     "output_type": "stream",
     "text": [
      "Train on 60000 samples, validate on 10000 samples\n",
      "Epoch 1/5\n",
      "60000/60000 [==============================] - 21s 351us/step - loss: 0.2844 - acc: 0.9165 - val_loss: 0.1285 - val_acc: 0.9596\n",
      "Epoch 2/5\n",
      "60000/60000 [==============================] - 18s 308us/step - loss: 0.1494 - acc: 0.9582 - val_loss: 0.0977 - val_acc: 0.9674\n",
      "Epoch 3/5\n",
      "60000/60000 [==============================] - 20s 337us/step - loss: 0.1169 - acc: 0.9667 - val_loss: 0.0856 - val_acc: 0.9735\n",
      "Epoch 4/5\n",
      "60000/60000 [==============================] - 21s 348us/step - loss: 0.0999 - acc: 0.9722 - val_loss: 0.0783 - val_acc: 0.9752\n",
      "Epoch 5/5\n",
      "60000/60000 [==============================] - 20s 334us/step - loss: 0.0847 - acc: 0.9759 - val_loss: 0.0717 - val_acc: 0.9771\n"
     ]
    }
   ],
   "source": [
    "# training parameters\n",
    "batch_size = 32\n",
    "epochs = 5\n",
    "\n",
    "# create the deep neural net\n",
    "model_DNN = compile_model()\n",
    "\n",
    "# train DNN and store training info in history\n",
    "history = model_DNN.fit(X_train, Y_train,\n",
    "          batch_size=batch_size,\n",
    "          epochs=epochs,\n",
    "          verbose=1,\n",
    "          validation_data=(X_test, Y_test))"
   ]
  },
  {
   "cell_type": "code",
   "execution_count": 56,
   "metadata": {},
   "outputs": [
    {
     "name": "stdout",
     "output_type": "stream",
     "text": [
      "10000/10000 [==============================] - 1s 74us/step\n"
     ]
    }
   ],
   "source": [
    "# evaluate models\n",
    "score = model_DNN.evaluate(X_test, Y_test, verbose=1)"
   ]
  },
  {
   "cell_type": "markdown",
   "metadata": {},
   "source": [
    "Una volta allenata la rete la si è valutata. Sono riportati nelle immagini seguenti i risultati per la bontà degli ottimizzatori. Come previsto Adadelta sembra essere l'ottimizzatore migliore, si nota però che dopo la terza epoca l'accuratezza dei dati di train supera quella dei dati di test (e l'inverso per il valore della funzione costo) nonostante sia stato mantenuto una probabilità di dropout del 50% : questo potrebbe essere indice di un overfitting. Invece molto buono è l'ottimizzatore Adagrad che arriva fino a quasi al 98% di accuratezza."
   ]
  },
  {
   "cell_type": "markdown",
   "metadata": {},
   "source": [
    "<table border=\"0\">\n",
    "<tr><td> <img src=\"Adadelta_acc.png\"> </td><td> <img src=\"Adadelta_loss.png\"> </td></tr>\n",
    "</table>"
   ]
  },
  {
   "cell_type": "markdown",
   "metadata": {},
   "source": [
    "<table border=\"0\">\n",
    "<tr><td> <img src=\"Adagrad_acc.png\"> </td><td> <img src=\"Adagrad_loss.png\"> </td></tr>\n",
    "</table>"
   ]
  },
  {
   "cell_type": "markdown",
   "metadata": {},
   "source": [
    "<table border=\"0\">\n",
    "<tr><td> <img src=\"SGD_acc.png\"> </td><td> <img src=\"SGD_loss.png\"> </td></tr>\n",
    "</table>"
   ]
  },
  {
   "cell_type": "markdown",
   "metadata": {},
   "source": [
    "## <span style=\"color:black\"> Esercizio 12.2 </span>"
   ]
  },
  {
   "cell_type": "markdown",
   "metadata": {},
   "source": [
    "A questo punto si è cambiata la struttura della Deep Neural Network per tenere conto di proprietà come località e invarianza traslazionale che sono tipiche della matrice di pixel ottenuta da immagini rappresentanti cifre numeriche scritte a mano.  \n",
    "La cella sottostante serve per formattare i dati in modo che possano essere letti da layer convoluzionali, mentre nelle celle successive la rete viene creata e caricata.  \n",
    "Si è scelto di utilizzare, a causa dei risultati sopra ottenuti, l'ottimizzatore Adagrad."
   ]
  },
  {
   "cell_type": "code",
   "execution_count": 40,
   "metadata": {},
   "outputs": [
    {
     "name": "stdout",
     "output_type": "stream",
     "text": [
      "X_train shape: (60000, 28, 28, 1)\n",
      "Y_train shape: (60000, 10)\n",
      "\n",
      "60000 train samples\n",
      "10000 test samples\n"
     ]
    }
   ],
   "source": [
    "# you will need the following for Convolutional Neural Networks\n",
    "from keras.layers import Flatten, Conv2D, MaxPooling2D\n",
    "\n",
    "# reshape data, depending on Keras backend\n",
    "if keras.backend.image_data_format() == 'channels_first':\n",
    "    X_train = X_train.reshape(X_train.shape[0], 1, img_rows, img_cols)\n",
    "    X_test = X_test.reshape(X_test.shape[0], 1, img_rows, img_cols)\n",
    "    input_shape = (1, img_rows, img_cols)\n",
    "else:\n",
    "    X_train = X_train.reshape(X_train.shape[0], img_rows, img_cols, 1)\n",
    "    X_test = X_test.reshape(X_test.shape[0], img_rows, img_cols, 1)\n",
    "    input_shape = (img_rows, img_cols, 1)\n",
    "    \n",
    "print('X_train shape:', X_train.shape)\n",
    "print('Y_train shape:', Y_train.shape)\n",
    "print()\n",
    "print(X_train.shape[0], 'train samples')\n",
    "print(X_test.shape[0], 'test samples')"
   ]
  },
  {
   "cell_type": "markdown",
   "metadata": {},
   "source": [
    "Sono stati costruiti e allenati diversi modelli di reti neurali convoluzionali, tutti caratterizzati da una simile serie di layer finali: eseguite le varie operazioni di convoluzione e di *pooling* i dati vengono di nuovo \"aperti\" in un vettore con un layer di `Flatten` seguito da un `Dropout` con probabilità 50%, e successivamente vengono aggiunti un numero variabile di layer di core \"standard\" di tipo `dense` (con attivazione `relu`), numero scelto in base alle dimensioni della matrice ottenuta dall'elaborazione con i layer di convoluzione. Alla fine viene posto un layer di *output* con attivazione `softmax` composto da 10 neuroni, che rappresentano le 10 possibili cifre riconoscibili dalla rete.\n",
    "Invece la migliore implementazione trovata per la parte iniziale consiste in:\n",
    "- layer di convoluzione con 6 filtri di dimensione 5x5 $\\rightarrow$ output = 24x24x6\n",
    "- layer di pooling di dimensione 2x2 $\\rightarrow$ output = 12x12x6\n",
    "- layer di dropout con rate 0.5 \n",
    "- layer di convoluzione con 16 filtri di dimensione 5x5 $\\rightarrow$ output = 8x8x16\n",
    "- layer di pooling di dimensione 2x2 $\\rightarrow$ output = 4x4x16\n",
    "\n",
    "Si è provato anche ad inserire alcuni layer aggiuntivi di `dropout` per scongiurare casi di overfitting: sebbene l'accuratezza si rivelasse migliore, la rete non era altrettanto efficiente nel riconoscere un nuovo set di immagini inserito appositamente (si veda punto successivo).  \n",
    "Un'ulteriore elaborazione, successivamente rivelatasi peggiore e quindi scartata, è consistita nella scelta di un maggiore numero di filtri iniziali e del secondo layer di convoluzione; tuttavia la buona efficienza di una rete di questo tipo sarebbe subordinata a tempi diversi di allenamento, che sono invece stati trascurati favorendo reti neurali a \"veloce\" apprendimento (dell'ordine di qualche minuto)."
   ]
  },
  {
   "cell_type": "code",
   "execution_count": 61,
   "metadata": {},
   "outputs": [],
   "source": [
    "def create_CNN():\n",
    "    # instantiate model\n",
    "    model = Sequential()\n",
    "    # add first convolutional layer with 6 filters (dimensionality of output space)\n",
    "    model.add(Conv2D(6, kernel_size=(5, 5), strides=(1, 1), padding='same',\n",
    "                     activation='relu',\n",
    "                     input_shape=input_shape))\n",
    "    # add first pooling layer\n",
    "    model.add(MaxPooling2D(pool_size=2, strides=2, padding='same'))\n",
    "    # apply dropout with rate 0.5\n",
    "    model.add(Dropout(0.5))\n",
    "    # add second convolutional layer with 16 filters (dimensionality of output space)\n",
    "    model.add(Conv2D(16, kernel_size=(5, 5), strides=(1, 1), padding='same', activation='relu'))\n",
    "    # add second pooling layer\n",
    "    model.add(MaxPooling2D(pool_size=2, strides=2, padding='same'))\n",
    "    # flatten layer\n",
    "    model.add(Flatten())\n",
    "    # apply dropout with rate 0.5\n",
    "    model.add(Dropout(0.5))\n",
    "    # dense layer \n",
    "    model.add(Dense(256, activation='relu'))\n",
    "    # soft-max layer\n",
    "    model.add(Dense(num_classes, activation='softmax'))\n",
    "    \n",
    "    # compile the model\n",
    "    model.compile(loss=keras.losses.categorical_crossentropy,\n",
    "                  optimizer='Adagrad',\n",
    "                  metrics=['accuracy'])\n",
    "    return model"
   ]
  },
  {
   "cell_type": "markdown",
   "metadata": {},
   "source": [
    "N.B. Decommentare la porzione di codice in rosso esclusivamente se si vuole allenare di nuovo la rete creata la cella soprastante, altrimenti si vedano i risultati ottenuti riportati poco sotto."
   ]
  },
  {
   "cell_type": "code",
   "execution_count": 123,
   "metadata": {},
   "outputs": [
    {
     "name": "stdout",
     "output_type": "stream",
     "text": [
      "\n",
      "Test loss: 0.09566874426230788\n",
      "Test accuracy: 0.9687\n"
     ]
    }
   ],
   "source": [
    "\n",
    "# training parameters\n",
    "batch_size = 32\n",
    "epochs = 5\n",
    "\n",
    "# create the deep conv net\n",
    "model_CNN=create_CNN()\n",
    "\n",
    "'''\n",
    "# train CNN\n",
    "history = model_CNN.fit(X_train, Y_train,\n",
    "          batch_size=batch_size,\n",
    "          epochs=epochs,\n",
    "          verbose=1,\n",
    "          validation_data=(X_test, Y_test))\n",
    "\n",
    "# evaluate model\n",
    "score = model_CNN.evaluate(X_test, Y_test, verbose=1)\n",
    "'''\n",
    "\n",
    "# print performance\n",
    "print()\n",
    "print('Test loss:', score[0])\n",
    "print('Test accuracy:', score[1])\n"
   ]
  },
  {
   "cell_type": "code",
   "execution_count": 64,
   "metadata": {},
   "outputs": [],
   "source": [
    "save_model_path='CNN_3.model'\n",
    "#model_CNN.save(filepath=save_model_path, include_optimizer=True)"
   ]
  },
  {
   "cell_type": "markdown",
   "metadata": {},
   "source": [
    "Nell'immagine seguente è mostrata l'accuratezza del modello. Come atteso i dati di test presentano un'accuratezza migliore di quelli di allenamento e un valore della funzione costo minore. Infatti il dropout viene automaticamente eliminato una volta effettuato l'allenamento della rete, di conseguenza i dati di test risultano più accurati, raggiungendo una precisione del 98% circa."
   ]
  },
  {
   "cell_type": "markdown",
   "metadata": {},
   "source": [
    "<table border=\"0\">\n",
    "<tr><td> <img src=\"CNN_acc.png\"> </td><td> <img src=\"CNN_loss.png\"> </td></tr>\n",
    "</table>"
   ]
  },
  {
   "cell_type": "markdown",
   "metadata": {},
   "source": [
    "## <span style=\"color:black\"> Esercizio 12.3 </span>"
   ]
  },
  {
   "cell_type": "markdown",
   "metadata": {},
   "source": [
    "Giunti a questo punto si è deciso di testare la rete neurale così creata e allenata con un nuovo set di immagini, create dal sottoscritto e disegnate \"a mano\" su una tela di 28x28 pixel. Le immagini si presentano come segue:"
   ]
  },
  {
   "cell_type": "code",
   "execution_count": 126,
   "metadata": {},
   "outputs": [
    {
     "name": "stdout",
     "output_type": "stream",
     "text": [
      "Image size: 28x28\n"
     ]
    },
    {
     "data": {
      "image/png": "[encoded data removed]",
      "text/plain": [
       "<Figure size 360x360 with 1 Axes>"
      ]
     },
     "metadata": {},
     "output_type": "display_data"
    },
    {
     "name": "stdout",
     "output_type": "stream",
     "text": [
      "(28, 28)\n"
     ]
    }
   ],
   "source": [
    "from PIL import Image\n",
    "import os\n",
    "\n",
    "model_CNN=tf.keras.models.load_model('CNN.model')\n",
    "\n",
    "digit_filename=list()\n",
    "digit_in=list()\n",
    "\n",
    "for i in range(10):\n",
    "    digit_filename.append(\"./numbers/\"+str(i)+\".png\")\n",
    "    digit_in.append(Image.open(digit_filename[i]).convert('L'))\n",
    "    \n",
    "num=0\n",
    "\n",
    "ydim, xdim = digit_in[num+1].size\n",
    "print(\"Image size: \"+str(xdim)+\"x\"+str(ydim))\n",
    "pix=digit_in[num+1].load();\n",
    "data = np.zeros((xdim, ydim))\n",
    "for j in range(ydim):\n",
    "    for i in range(xdim):\n",
    "        data[i,j]=pix[j,i]\n",
    "\n",
    "data /= 255\n",
    "\n",
    "plt.figure(figsize=(5,5))\n",
    "plt.imshow(data, cmap='gray')\n",
    "plt.show()\n",
    "\n",
    "print(data.shape)"
   ]
  },
  {
   "cell_type": "markdown",
   "metadata": {},
   "source": [
    "Una volta caricate le immagini (sono state create le 10 cifre da 0 a 9) è necessario formattare i dati in modo che possano essere dati in input alla rete, e quindi è possibile utilizzare la stessa per effettuare il riconoscimento:"
   ]
  },
  {
   "cell_type": "code",
   "execution_count": 129,
   "metadata": {},
   "outputs": [
    {
     "name": "stdout",
     "output_type": "stream",
     "text": [
      "(28, 28)\n"
     ]
    },
    {
     "data": {
      "image/png": "[encoded data removed]",
      "text/plain": [
       "<Figure size 360x360 with 1 Axes>"
      ]
     },
     "metadata": {},
     "output_type": "display_data"
    }
   ],
   "source": [
    "print(data.shape)\n",
    "#data = data.reshape(1,xdim*ydim)\n",
    "\n",
    "if keras.backend.image_data_format() == 'channels_first':\n",
    "    data = data.reshape(1, 1, img_rows, img_cols)\n",
    "    data = data.reshape(1, 1, img_rows, img_cols)\n",
    "    input_shape = (1, img_rows, img_cols)\n",
    "else:\n",
    "    data = data.reshape(1, img_rows, img_cols, 1)\n",
    "    data = data.reshape(1, img_rows, img_cols, 1)\n",
    "    input_shape = (img_rows, img_cols, 1)\n",
    "\n",
    "#print(data.shape)\n",
    "pred_0 = model_CNN.predict(data)\n",
    "\n",
    "data = data.reshape(xdim,ydim)\n",
    "\n",
    "plt.figure(figsize=(5, 5))  \n",
    "plt.imshow(data, cmap='gray')    \n",
    "plt.title(\"Digit predicted:    {}\".format(np.argmax(pred_0)))\n",
    "plt.axis('off') \n",
    "plt.show()"
   ]
  },
  {
   "cell_type": "markdown",
   "metadata": {},
   "source": [
    "E' stata effettuata questa operazione su tutte le cifre con i risultati illustrati nella cella sottostante. Si nota che quasi tutte le cifre (alcune scritte volutamente male) vengono riconosciute eccetto una. In generale si è verificato, provando con diversi input, che questa sruttura di rete neurale fatica a riconoscere la cifra '9', a differenza delle altre reti testate che facilitavano il riconoscimento di questa cifra a discapito di altre - in generale le più problematiche si sono rivelate essere 7 e 8.  \n",
    "Ad ogni mmodo, per un allenamento di pochi minuti (con conseguente basso numero di layer e di filtri) si è raggiunto un risultato altamente soddisfacente, in grado di riconoscere cifre anche parecchio differenti dallo \"standard\"."
   ]
  },
  {
   "cell_type": "code",
   "execution_count": 128,
   "metadata": {},
   "outputs": [
    {
     "data": {
      "image/png": "[encoded data removed]",
      "text/plain": [
       "<Figure size 1080x1080 with 10 Axes>"
      ]
     },
     "metadata": {},
     "output_type": "display_data"
    }
   ],
   "source": [
    "#X_test = X_test.reshape(X_test.shape[0], img_rows*img_cols)\n",
    "#predictions = model_CNN.predict(X_test)\n",
    "\n",
    "data = data.reshape(xdim, ydim)\n",
    "\n",
    "plt.figure(figsize=(15, 15)) \n",
    "for k in range(10):    \n",
    "\n",
    "    ydim, xdim = digit_in[k].size\n",
    "    pix=digit_in[k].load();\n",
    "    data = np.zeros((xdim, ydim))\n",
    "    for j in range(ydim):\n",
    "        for i in range(xdim):\n",
    "            data[i,j]=pix[j,i]\n",
    "\n",
    "    data /= 255\n",
    "    \n",
    "    if keras.backend.image_data_format() == 'channels_first':\n",
    "        data = data.reshape(1, 1, img_rows, img_cols)\n",
    "        data = data.reshape(1, 1, img_rows, img_cols)\n",
    "        input_shape = (1, img_rows, img_cols)\n",
    "    else:\n",
    "        data = data.reshape(1, img_rows, img_cols, 1)\n",
    "        data = data.reshape(1, img_rows, img_cols, 1)\n",
    "        input_shape = (img_rows, img_cols, 1)\n",
    "\n",
    "    pred_0 = model_CNN.predict(data)\n",
    "\n",
    "    data = data.reshape(xdim,ydim)\n",
    "    \n",
    "    ax = plt.subplot(2, 10, k + 1)    \n",
    "    plt.imshow(data, cmap='gray')  \n",
    "    plt.title(\"Digit: {}\\nPredicted: {}\".format(k, np.argmax(pred_0)))    \n",
    "    plt.axis('off') \n",
    "plt.show()"
   ]
  }
 ],
 "metadata": {
  "kernelspec": {
   "display_name": "Python 3",
   "language": "python",
   "name": "python3"
  },
  "language_info": {
   "codemirror_mode": {
    "name": "ipython",
    "version": 3
   },
   "file_extension": ".py",
   "mimetype": "text/x-python",
   "name": "python",
   "nbconvert_exporter": "python",
   "pygments_lexer": "ipython3",
   "version": "3.6.8"
  }
 },
 "nbformat": 4,
 "nbformat_minor": 2
}
